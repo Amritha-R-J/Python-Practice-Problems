{
 "cells": [
  {
   "cell_type": "markdown",
   "id": "2b633005",
   "metadata": {},
   "source": [
    "# Python Practice Problems 1"
   ]
  },
  {
   "cell_type": "code",
   "execution_count": 1,
   "id": "b48f16c8",
   "metadata": {},
   "outputs": [
    {
     "name": "stdout",
     "output_type": "stream",
     "text": [
      "Please enter a value 37\n",
      "98.60000000000001\n"
     ]
    }
   ],
   "source": [
    "#1. Write a python program to convert temperature in Fahrenheit\n",
    "\n",
    "Celsius = int(input(\"Please enter a value \"))\n",
    "F1 = Celsius * (9/5)\n",
    "F2 = F1 + 32\n",
    "print(F2)"
   ]
  },
  {
   "cell_type": "code",
   "execution_count": 3,
   "id": "eb666bca",
   "metadata": {},
   "outputs": [
    {
     "name": "stdout",
     "output_type": "stream",
     "text": [
      "Enter 1st side: 5\n",
      "Enter 2nd side: 7\n",
      "Enter 3rd side: 6\n",
      "14.696938456699069\n"
     ]
    }
   ],
   "source": [
    "#2. WAP in python find the area of a triangle\n",
    "\n",
    "import math\n",
    "a = float(input('Enter 1st side: '))\n",
    "b = float(input('Enter 2nd side: '))\n",
    "c = float(input('Enter 3rd side: '))\n",
    "\n",
    "s = (a + b + c) / 2\n",
    "a = s*(s-a)*(s-b)*(s-c)\n",
    "area = math.sqrt(a)\n",
    "print(area)"
   ]
  },
  {
   "cell_type": "code",
   "execution_count": 20,
   "id": "4e6994e7",
   "metadata": {},
   "outputs": [
    {
     "name": "stdout",
     "output_type": "stream",
     "text": [
      "Enter the name Anisha\n",
      "Enter the roll number 21\n",
      "Enter the mark 78\n"
     ]
    }
   ],
   "source": [
    "# 3. Write a Python Program to accept the details of a student like name, roll number and mark and display it.\n",
    "\n",
    "name = input(\"Enter the name \")\n",
    "roll_no = input(\"Enter the roll number \")\n",
    "mark = input(\"Enter the mark \")"
   ]
  },
  {
   "cell_type": "code",
   "execution_count": 4,
   "id": "4e27a496",
   "metadata": {},
   "outputs": [
    {
     "data": {
      "text/plain": [
       "47"
      ]
     },
     "execution_count": 4,
     "metadata": {},
     "output_type": "execute_result"
    }
   ],
   "source": [
    "#4 Write a Python program to get the largest number from a list.\n",
    "# Sample input: 12, 3, 47, 10\n",
    "# Sample output: 47 is the largest number.\n",
    "\n",
    "list1 = [12, 3, 47, 10]\n",
    "max(list1)"
   ]
  },
  {
   "cell_type": "code",
   "execution_count": 5,
   "id": "0be89008",
   "metadata": {},
   "outputs": [
    {
     "name": "stdout",
     "output_type": "stream",
     "text": [
      "Please enter a number 8.1\n",
      "Please enter a number 5.6\n",
      "Please enter a number 2\n",
      "Please enter a number 9\n",
      "Please enter a number 4.1\n",
      "5.76\n"
     ]
    }
   ],
   "source": [
    "#5 Write a python program to find the average of 5 numbers\n",
    "\n",
    "num1 = float(input(\"Please enter a number \"))\n",
    "num2 = float(input(\"Please enter a number \"))\n",
    "num3 = float(input(\"Please enter a number \"))\n",
    "num4 = float(input(\"Please enter a number \"))\n",
    "num5 = float(input(\"Please enter a number \"))\n",
    "average = (num1+num2+num3+num4+num5)/5\n",
    "print(average)"
   ]
  },
  {
   "cell_type": "code",
   "execution_count": 11,
   "id": "8f646557",
   "metadata": {},
   "outputs": [
    {
     "name": "stdout",
     "output_type": "stream",
     "text": [
      "Please enter a number 23\n",
      "Please mention a number between 0 and 12 7\n"
     ]
    },
    {
     "data": {
      "text/plain": [
       "[8, 7, 6, 5, 4, 3, 2, 23, 1, 9, 10, 11, 12]"
      ]
     },
     "execution_count": 11,
     "metadata": {},
     "output_type": "execute_result"
    }
   ],
   "source": [
    "# 6. Python program to insert a number to any position in a list (Get the number to be inserted and position from the user)\n",
    "list1 = [8,7,6,5,4,3,2,1,9,10,11,12]\n",
    "num = int(input(\"Please enter a number \"))\n",
    "ind = int(input(\"Please mention a number between 0 and 12 \"))\n",
    "list1.insert(ind,num)\n",
    "list1"
   ]
  },
  {
   "cell_type": "code",
   "execution_count": 12,
   "id": "835a6d89",
   "metadata": {},
   "outputs": [
    {
     "name": "stdout",
     "output_type": "stream",
     "text": [
      "Please enter a city name  London\n"
     ]
    },
    {
     "data": {
      "text/plain": [
       "{'name': 'Kelly', 'age': 25, 'salary': 8000, 'city': 'London'}"
      ]
     },
     "execution_count": 12,
     "metadata": {},
     "output_type": "execute_result"
    }
   ],
   "source": [
    "#7. Write a program to rename a key city to a location in the following dictionary.\n",
    "\n",
    "sample_dict = { \"name\": \"Kelly\", \"age\":25, \"salary\": 8000, \"city\": \"New york\"}\n",
    "sample_dict[\"city\"] = input(\"Please enter a city name  \")\n",
    "sample_dict"
   ]
  },
  {
   "cell_type": "code",
   "execution_count": 13,
   "id": "c9bca3c1",
   "metadata": {},
   "outputs": [
    {
     "data": {
      "text/plain": [
       "{'emp1': {'name': 'Jhon', 'salary': 7500},\n",
       " 'emp2': {'name': 'Emma', 'salary': 8000},\n",
       " 'emp3': {'name': 'Brad', 'salary': 8500}}"
      ]
     },
     "execution_count": 13,
     "metadata": {},
     "output_type": "execute_result"
    }
   ],
   "source": [
    "#8. Write a Python program to change Brad’s salary to 8500 in the following dictionary.\n",
    "sample_dict = {\n",
    "'emp1': {'name': 'Jhon', 'salary': 7500},\n",
    "'emp2': {'name': 'Emma', 'salary': 8000},\n",
    "'emp3': {'name': 'Brad', 'salary': 500}\n",
    "}\n",
    "sample_dict['emp3']['salary']=8500\n",
    "sample_dict"
   ]
  },
  {
   "cell_type": "code",
   "execution_count": 17,
   "id": "248c5292",
   "metadata": {},
   "outputs": [
    {
     "data": {
      "text/plain": [
       "(44, 55)"
      ]
     },
     "execution_count": 17,
     "metadata": {},
     "output_type": "execute_result"
    }
   ],
   "source": [
    "#9 Write a program to copy elements 44 and 55 from the following tuple into a new tuple. Given: tuple1 = (11, 22, 33, 44, 55, 66)\n",
    "\n",
    "tuple1 = (11, 22, 33, 44, 55, 66)\n",
    "new_tuple = tuple1[3:5]\n",
    "new_tuple"
   ]
  },
  {
   "cell_type": "code",
   "execution_count": 18,
   "id": "71b42b0c",
   "metadata": {},
   "outputs": [
    {
     "data": {
      "text/plain": [
       "3"
      ]
     },
     "execution_count": 18,
     "metadata": {},
     "output_type": "execute_result"
    }
   ],
   "source": [
    "#10. Counts the number of occurrences of item 50 from a tuple tuple1 = (50, 10, 60, 70, 50, 83, 567, 50, 81)\n",
    "tuple1 = (50, 10, 60, 70, 50, 83, 567, 50, 81)\n",
    "tuple1.count(50)"
   ]
  },
  {
   "cell_type": "code",
   "execution_count": null,
   "id": "579e5dd6",
   "metadata": {},
   "outputs": [],
   "source": []
  }
 ],
 "metadata": {
  "kernelspec": {
   "display_name": "Python 3 (ipykernel)",
   "language": "python",
   "name": "python3"
  },
  "language_info": {
   "codemirror_mode": {
    "name": "ipython",
    "version": 3
   },
   "file_extension": ".py",
   "mimetype": "text/x-python",
   "name": "python",
   "nbconvert_exporter": "python",
   "pygments_lexer": "ipython3",
   "version": "3.9.7"
  }
 },
 "nbformat": 4,
 "nbformat_minor": 5
}
